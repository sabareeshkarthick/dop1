{
 "cells": [
  {
   "cell_type": "markdown",
   "id": "dd61cec8",
   "metadata": {},
   "source": [
    "# Design Optimization\n",
    "## homework 2"
   ]
  },
  {
   "cell_type": "markdown",
   "id": "eca4ec98",
   "metadata": {},
   "source": [
    "### question 1"
   ]
  },
  {
   "cell_type": "markdown",
   "id": "18c6c093",
   "metadata": {},
   "source": [
    "$f=f(x_{1},x_{2}) = 2x_{1}^2-4x_{1}x_{2}+1.5x_{2}^2+x_{2}$<br/>\n",
    "$g(f) = \\begin{bmatrix}\\frac{\\partial f}{\\partial x_{1}} \\\\ \\frac{\\partial f}{\\partial x_{2}} \\end{bmatrix} = \\begin{bmatrix} 4x_{1}-4x_{2} \\\\ -4x_{1}+3x_{2}+1 \\end{bmatrix}$\n"
   ]
  },
  {
   "cell_type": "markdown",
   "id": "0b7f14c9",
   "metadata": {},
   "source": [
    "For stationary point $ g(f) = 0 $<br/>\n",
    "Therefore,$\\begin{bmatrix}4x_{1}-4x_{2}\\\\-4x_{1}+3x_{2}+1 \\end{bmatrix}=\\begin{bmatrix} 0\\\\0 \\end{bmatrix} $ "
   ]
  },
  {
   "cell_type": "markdown",
   "id": "2896a03f",
   "metadata": {},
   "source": [
    "$4x_{1}-4x_{2}= 0$ <br/>\n",
    "$-4x_{1}+3x_{2}=-1$<br/>\n",
    "Using elimination method we get $x_{1}=1$ , $x_{2}=1$ <br/>\n",
    "Therefore the stationary point $(x_{1},x_{2})=(1,1)$\n"
   ]
  },
  {
   "cell_type": "markdown",
   "id": "081c5b9d",
   "metadata": {},
   "source": [
    "$ H(f) = \\begin{bmatrix}\\frac{\\partial ^2 f}{\\partial x_{1}^2} & \\frac{\\partial ^2 f}{\\partial x_{1}\\partial x_{2}} \\\\ \\frac{\\partial ^2 f}{\\partial x_{2}\\partial x_{1}} & \\frac{\\partial ^2 f}{\\partial x_{2}^2}\\end{bmatrix} = \\begin{bmatrix} 4 & -4 \\\\ -4 & 3\\end{bmatrix}$ "
   ]
  },
  {
   "cell_type": "markdown",
   "id": "03934127",
   "metadata": {},
   "source": [
    "Eigen value :<br/> $AX=\\lambda X$<br/>\n",
    "$(A-\\lambda I)X=0$<br/>\n",
    "$|A-\\lambda I|=0$<br/><br/>\n",
    "$\\begin{vmatrix} 4-\\lambda & -4 \\\\ -4 & 3-\\lambda\\end{vmatrix}=0$<br/><br/>\n",
    "$(4-\\lambda)(3-\\lambda)-16=0$<br/>\n",
    "$12-4\\lambda-3\\lambda+\\lambda ^2-16=0$<br/>\n",
    "$\\lambda^2-7\\lambda-4=0$<br/>\n",
    "$\\lambda = \\frac{-b\\pm \\sqrt{b^2-4ac}}{2a}$<br/>\n",
    "$\\lambda = \\frac{7\\pm \\sqrt{49-4(1)(-4)}}{2(1)}$<br/>\n",
    "$\\lambda = \\frac{7\\pm \\sqrt{65}}{2}$<br/>\n",
    "$\\lambda_{1} = \\frac{7+\\sqrt{65}}{2}  ,\\lambda_{2} = \\frac{7-\\sqrt{65}}{2} $<br/>\n",
    "$\\lambda_{1}=7.5311288 , \\lambda_{2}=-0.5311288$<br/><br/>\n",
    "Since the eigen values of hessian has both positive and negative values, the function is indefinite.<br/>\n",
    "Therefore,the stationary point $(1,1)$ is a saddle point."
   ]
  },
  {
   "cell_type": "markdown",
   "id": "783c1d73",
   "metadata": {},
   "source": [
    "Taylors expansion,<br/>\n",
    "$f(x_{1},x_{2})=f(x_{1},x_{2})+[g(f)]^T (x-x_{0})+\\frac{1}{2} (x-x_{0})^T H(f)(x-x_{0})$<br/>\n",
    "for $(x_{1},x_{2})=(1,1)$<br/>\n",
    "$f(x_{1},x_{2})=f(1,1)+\\begin{bmatrix} 4(1)-4(1) & -4(1)+3(1)+1 \\end{bmatrix} \\begin{bmatrix}x_{1}-1 \\\\ x_{2}-1\\end{bmatrix}+\\frac{1}{2}\\begin{bmatrix}x_{1}-1 & x_{2}-1\\end{bmatrix}\\begin{bmatrix}4 & -4 \\\\ -4 & 3\\end{bmatrix}\\begin{bmatrix}x_{1}-1 \\\\ x_{2}-1\\end{bmatrix}$<br/>\n",
    "let $x_{1}-1=\\partial x_{1} , x_{2}-1=\\partial x_{2}$<br/>\n",
    "$f(x_{1},x_{2})=f(1,1)+0+\\frac{1}{2}\\begin{bmatrix}\\partial x_{1} & \\partial x_{2}\\end{bmatrix}\\begin{bmatrix}4 & -4 \\\\ -4 & 3\\end{bmatrix}\\begin{bmatrix}\\partial x_{1} \\\\ \\partial x_{2}\\end{bmatrix}$<br/>\n",
    "$=f(1,1)+\\frac{1}{2}\\begin{bmatrix}4\\partial x_{1}-4\\partial x_{2} & -4\\partial x_{1}+3\\partial x_{2}\\end{bmatrix}\\begin{bmatrix}\\partial x_{1} \\\\ \\partial x_{2}\\end{bmatrix}$<br/>\n",
    "$=f(1,1)+\\frac{1}{2} [(4 \\partial x_{1}^2 - 4 \\partial x_{1} \\partial x_{2} - 4 \\partial x_{1} \\partial x_{2} + 3 \\partial x_{2}^2)]$<br/>\n",
    "$=f(1,1)+\\frac{1}{2} [(4 \\partial x_{1}^2 - 2 \\partial x_{1} \\partial x_{2} - 6 \\partial x_{1} \\partial x_{2} + 3 \\partial x_{2}^2)]$<br/>\n",
    "$=f(1,1)+\\frac{1}{2} [(2\\partial x_{1}(2\\partial x_{1}-\\partial x_{2})-3\\partial x_{2}(2\\partial x_{1}-\\partial x_{2})]$<br/>\n",
    "$=f(1,1)+\\frac{1}{2} [(2\\partial x_{1}-\\partial x_{2})(2\\partial x_{1} -3\\partial x_{2})]$<br/>\n",
    "$=f(1,1)+ (1\\partial x_{1}-\\frac{1}{2} \\partial x_{2})(1\\partial x_{1} -\\frac{3}{2} \\partial x_{2})$<br/>\n",
    "let $a=1,b=\\frac{1}{2},c=1,d=\\frac{3}{2}$<br/>\n",
    "$\\implies f(x_{1},x_{2})=f(1,1)+(a\\partial x_{1}-b \\partial x_{2})(c\\partial x_{1} -d \\partial x_{2})$<br/>"
   ]
  },
  {
   "cell_type": "markdown",
   "id": "63f94aed",
   "metadata": {},
   "source": [
    "Direction of downslopes,<br/>\n",
    "$f(x_{1},x_{2})-f(1,1)=(a\\partial x_{1}-b \\partial x_{2})(c\\partial x_{1} -d \\partial x_{2})<0$<br/>\n",
    "$\\implies (a\\partial x_{1}-b \\partial x_{2})(c\\partial x_{1} -d \\partial x_{2})<0$<br/>\n",
    "So either $(a\\partial x_{1}-b \\partial x_{2})$ or $(c\\partial x_{1} -d \\partial x_{2})$ should be negative,not both and $a\\partial x_{1}\\neq b \\partial x_{2},c\\partial x_{1} \\neq d \\partial x_{2}$."
   ]
  },
  {
   "cell_type": "markdown",
   "id": "2816ba55",
   "metadata": {},
   "source": [
    "### question 2"
   ]
  },
  {
   "cell_type": "markdown",
   "id": "d5d1c3ca",
   "metadata": {},
   "source": [
    "#### 2(a)"
   ]
  },
  {
   "cell_type": "markdown",
   "id": "ea895ab3",
   "metadata": {},
   "source": [
    "Plane $=x_{1}+2x_{2}+3x_{3}=1$<br/>\n",
    "Nearest to point $(-1,0,1)^T$<br/>\n",
    "To find the nearest point we should minimize the difference between the point we need to find$(x_{1},x_{2},x_{3})$ and point$(-1,0,1)$<br/>\n",
    "$\\implies f=f(x_{1},x_{2},x_{3})=min((x_{1}-(-1))^2+(x_{2}-0)^2+(x_{3}-1)^2)$<br/>\n",
    "$\\implies$Objective function,$$f(x_{1},x_{2},x_{3})=min((x_{1}+1)^2+x_{2}^2+(x_{3}-1)^2)$$<br/>\n",
    "Constrain:<br/>\n",
    "Since the point should be in the plane $x_{1}+2x_{2}+3x_{3}=1$,it must satisfy the equation of this plane.<br/>\n",
    "Therefore constrain is,$$x_{1}+2x_{2}+3x_{3}=1$$<br/>\n",
    "To make the function unconstrained n,substitue $x_{1}=1-2x_{2}-3x_{3}$ in the objective function$f$<br/>"
   ]
  },
  {
   "cell_type": "markdown",
   "id": "27683f1c",
   "metadata": {},
   "source": [
    "$f(x_{1},x_{2},x_{3})=(1-2x_{2}-3x_{3}+1)^2+x_{2}^2+(x_{3}-1)^2$<br/>\n",
    "$=(2-2x_{2}-3x_{3})(2-2x_{2}-3x_{3})+x_{2}^2+x_{3}^2+1-2x_{3}$<br/>\n",
    "$=4-4x_{2}-6x_{3}-4x_{2}+4x_{2}^2+6x_{2}x_{3}-6x_{3}+6x_{2}x_{3}+9x_{3}^2+x_{2}^2+x_{3}^2+1-2x_{3}$<br/>\n",
    "$=5x_{2}^2-8x_{2}+12x_{2}x_{3}+10x_{3}^2-14x_{3}+5$<br/>\n"
   ]
  },
  {
   "cell_type": "markdown",
   "id": "5b90b66e",
   "metadata": {},
   "source": [
    "$g(x)=\\begin{bmatrix}\\frac{\\partial f}{\\partial x_{1}}\\\\ \\frac{\\partial f}{\\partial x_{2}}\\\\ \\frac{\\partial f}{\\partial x_{3}}\\end{bmatrix}=\\begin{bmatrix} 0 \\\\ 10x_{2}-8+12x_{3} \\\\ 12x_{2}+20x_{3}-14 \\end{bmatrix} $<br/>\n",
    "To find minimum,$g(X)=0$<br/>\n",
    "$\\implies g(x)=\\begin{bmatrix} 0 \\\\ 10x_{2}-8+12x_{3} \\\\ 12x_{2}+20x_{3}-14 \\end{bmatrix} =\\begin{bmatrix} 0 \\\\ 0 \\\\ 0 \\end{bmatrix}$<br/>\n",
    "$10x_{2}-8+12x_{3}=0 \\tag 1$<br/>\n",
    "$12x_{2}+20x_{3}-14=0 \\tag 2$<br/>\n",
    "divide $eq(1)$ by 2$ 5x_{2}+6x_{3}-4=0 \\tag 3$<br/>\n",
    "divide $eq(2)$ by 2$ 6x_{2}+10x_{3}-7=0 \\tag 4$<br/>\n",
    "$eq(3)$* -6 $  -30x_{2}-36x_{3}+24=0 \\tag 5$<br/>\n",
    "$eq(4)$*  5 $  30x_{2}+50x_{3}-35=0 \\tag 6$<br/>\n",
    "$eq(5)+eq(6)$ $\\implies 14 x_{3}-11=0$<br/><br/>\n",
    "$\\implies x_{3}=\\frac{11}{14}$<br/><br/>\n",
    "substitute $x_{3}$ in $-eq(3)$ we get,<br/>\n",
    "$6x_{2}+10(\\frac{11}{14})-7=0$<br/>\n",
    "$6x_{2}+\\frac{110-98}{14}=0$<br/>\n",
    "$6x_{2}+\\frac{12}{14}=0$<br/>\n",
    "$6x_{2}=-\\frac{12}{14}$<br/><br/>\n",
    "$\\implies x_{2}=-\\frac{1}{7}$<br/><br/>\n",
    "substitute $x_{2}$ and $x_{3}$ values in constrain equation, $x_{1}=1-2x_{2}-3x_{3}$ ,we get<br/>\n",
    "$x_{1}=1-2(\\frac {-1}{7})-3(\\frac {11}{14})$<br/>\n",
    "$=1+\\frac{2}{7}-\\frac{33}{14}$<br/>\n",
    "$=1-\\frac{29}{14}$<br/><br/>\n",
    "$\\implies x_{1}=-\\frac{15}{14}$<br/><br/>\n",
    "$\\implies$ the nearest point $(x_{1},x_{2},x_{3})=(-\\frac{15}{14},-\\frac{1}{7},\\frac{11}{14})$<br/>"
   ]
  },
  {
   "cell_type": "markdown",
   "id": "d5f3caf0",
   "metadata": {},
   "source": [
    "$ H(f) = \\begin{bmatrix}\n",
    "\\frac{\\partial ^2 f}{\\partial x_{1}^2} & \\frac{\\partial ^2 f}{\\partial x_{1}\\partial x_{2}} & \\frac{\\partial ^2 f}{\\partial x_{1}\\partial x_{3}}\n",
    "\\\\ \\frac{\\partial ^2 f}{\\partial x_{2}\\partial x_{1}} & \\frac{\\partial ^2 f}{\\partial x_{2}^2} & \\frac{\\partial ^2 f}{\\partial x_{2}\\partial x_{3}} \\\\ \\frac{\\partial ^2 f}{\\partial x_{3}\\partial x_{1}} & \\frac{\\partial ^2 f}{\\partial x_{3}\\partial x_{2}} & \\frac{\\partial ^2 f}{\\partial x_{3}^2}\n",
    "\\end{bmatrix} $<br/><br/>\n",
    "$ H(f)= \\begin{bmatrix} 0&0&0\\\\0&10&12\\\\0&12&20 \\end{bmatrix}$<br/><br/>\n",
    "Eigen values:<br/>\n",
    "$(A-\\lambda I)X=0$<br/>\n",
    "$|A-\\lambda I|=0$<br/><br/>\n",
    "$\\begin{vmatrix}0-\\lambda &0&0\\\\0&10-\\lambda &12\\\\0&12&20-\\lambda \\end{vmatrix}=0$<br/><br/>\n",
    "$\\implies -\\lambda[(10-\\lambda)(20-\\lambda)-(12)(12)]=0$<br/>\n",
    "$-\\lambda[200-10\\lambda-20\\lambda+\\lambda^2-144]=0$<br/>\n",
    "$-\\lambda[\\lambda^2-30\\lambda+56]=0$<br/>\n",
    "$-\\lambda[(\\lambda -28)(\\lambda -2)]=0$<br/>\n",
    "$\\lambda_{1}=0,\\lambda_{2}=28,\\lambda_{3}=2$<br/><br/>\n",
    "Since all the eigen values are $\\ge 0$ ,the Hessian is positive semi definite.<br/>\n",
    "since the Hessian is P.S.D everywhere this function is a convex function.<br/>\n"
   ]
  },
  {
   "cell_type": "code",
   "execution_count": null,
   "id": "fb00f51e",
   "metadata": {},
   "outputs": [],
   "source": []
  },
  {
   "cell_type": "code",
   "execution_count": null,
   "id": "a5212cd1",
   "metadata": {},
   "outputs": [],
   "source": []
  },
  {
   "cell_type": "markdown",
   "id": "581d4bed",
   "metadata": {},
   "source": [
    "### question 3"
   ]
  },
  {
   "cell_type": "markdown",
   "id": "ebf6a98d",
   "metadata": {},
   "source": [
    "To prove: Hyperplane is a convex set<br/>\n",
    "Hyperplane in $\\mathbb{R} ^n$ , $a^Tx=c$ for $x\\in \\mathbb{R} ^n$<br/>\n",
    "consider hyperplane, $$ f=\\{x    \\mid  where,x\\in\\mathbb{R} ^n,a^Tx=c\\}$$<br/>\n",
    "Let $x_{1}$ and $x_{2}$ be any two points in hyperplane f,<br/>\n",
    "$\\implies x_{1}\\in\\mathbb{R} , x_{2}\\in\\mathbb{R}$<br/>\n",
    "$a^Tx_{1}=c , a^Tx_{2}=c$<br/>\n",
    "$\\forall \\lambda\\in [0,1]$ , $\\forall (x_{1},x_{2})\\in x $<br/>\n",
    "$z=\\lambda x_{1}+(1-\\lambda)x_{2}$<br/>\n",
    "To check,$a^Tx=c$<br/>\n",
    "$a^Tz=a^T(\\lambda x_{1}+(1-\\lambda)x_{2})=\\lambda a^Tx_{1}+(1-\\lambda)a^Tx_{2}=c$<br/>\n",
    "Therefore $z=\\lambda x_{1}+(1-\\lambda x_{2})\\in$ hyperplane $f$<br/>\n",
    "$\\implies$ hyperplane is a convex set<br/>\n",
    "hence proved"
   ]
  },
  {
   "cell_type": "code",
   "execution_count": null,
   "id": "2d13cc72",
   "metadata": {},
   "outputs": [],
   "source": []
  }
 ],
 "metadata": {
  "kernelspec": {
   "display_name": "Python 3 (ipykernel)",
   "language": "python",
   "name": "python3"
  },
  "language_info": {
   "codemirror_mode": {
    "name": "ipython",
    "version": 3
   },
   "file_extension": ".py",
   "mimetype": "text/x-python",
   "name": "python",
   "nbconvert_exporter": "python",
   "pygments_lexer": "ipython3",
   "version": "3.10.0"
  }
 },
 "nbformat": 4,
 "nbformat_minor": 5
}
