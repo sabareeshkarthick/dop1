{
 "cells": [
  {
   "cell_type": "markdown",
   "id": "dd61cec8",
   "metadata": {},
   "source": [
    "# Design Optimization\n",
    "## homework 2"
   ]
  },
  {
   "cell_type": "markdown",
   "id": "eca4ec98",
   "metadata": {},
   "source": [
    "### question 1"
   ]
  },
  {
   "cell_type": "markdown",
   "id": "18c6c093",
   "metadata": {},
   "source": [
    "$f=f(x_{1},x_{2}) = 2x_{1}^2-4x_{1}x_{2}+1.5x_{2}^2+x_{2}$<br/>\n",
    "$g(f) = \\begin{bmatrix}\\frac{\\partial f}{\\partial x_{1}} \\\\ \\frac{\\partial f}{\\partial x_{2}} \\end{bmatrix} = \\begin{bmatrix} 4x_{1}-4x_{2} \\\\ -4x_{1}+3x_{2}+1 \\end{bmatrix}$\n"
   ]
  },
  {
   "cell_type": "markdown",
   "id": "0b7f14c9",
   "metadata": {},
   "source": [
    "For stationary point $ g(f) = 0 $<br/>\n",
    "Therefore,$\\begin{bmatrix}4x_{1}-4x_{2}\\\\-4x_{1}+3x_{2}+1 \\end{bmatrix}=\\begin{bmatrix} 0\\\\0 \\end{bmatrix} $ "
   ]
  },
  {
   "cell_type": "markdown",
   "id": "2896a03f",
   "metadata": {},
   "source": [
    "$4x_{1}-4x_{2}= 0$ <br/>\n",
    "$-4x_{1}+3x_{2}=-1$<br/>\n",
    "Using elimination method we get $x_{1}=1$ , $x_{2}=1$ <br/>\n",
    "Therefore the stationary point $(x_{1},x_{2})=(1,1)$\n"
   ]
  },
  {
   "cell_type": "markdown",
   "id": "081c5b9d",
   "metadata": {},
   "source": [
    "$ H(f) = \\begin{bmatrix}\\frac{\\partial f}{\\partial x_{1}^2} & \\frac{\\partial f}{\\partial x_{1}x_{2}} \\\\ \\frac{\\partial f}{\\partial x_{2}x_{1}} & \\frac{\\partial f}{\\partial x_{2}^2}\\end{bmatrix} = \\begin{bmatrix} 4 & -4 \\\\ -4 & 3\\end{bmatrix}$ "
   ]
  },
  {
   "cell_type": "markdown",
   "id": "03934127",
   "metadata": {},
   "source": [
    "Eigen value :<br/> $AX=\\lambda X$<br/>\n",
    "$(A-\\lambda I)X=0$<br/>\n",
    "$|A-\\lambda I|=0$<br/><br/>\n",
    "$\\begin{vmatrix} 4-\\lambda & -4 \\\\ -4 & 3-\\lambda\\end{vmatrix}=0$<br/><br/>\n",
    "$(4-\\lambda)(3-\\lambda)-16=0$<br/>\n",
    "$12-4\\lambda-3\\lambda+\\lambda ^2-16=0$<br/>\n",
    "$\\lambda^2-7\\lambda-4=0$<br/>\n",
    "$\\lambda = \\frac{-b\\pm \\sqrt{b^2-4ac}}{2a}$<br/>\n",
    "$\\lambda = \\frac{7\\pm \\sqrt{49-4(1)(-4)}}{2(1)}$<br/>\n",
    "$\\lambda = \\frac{7\\pm \\sqrt{65}}{2}$<br/>\n",
    "$\\lambda_{1} = \\frac{7+\\sqrt{65}}{2}  ,\\lambda_{2} = \\frac{7-\\sqrt{65}}{2} $<br/>\n",
    "$\\lambda_{1}=7.5311288 , \\lambda_{2}=-0.5311288$<br/><br/>\n",
    "Since the eigen values of hessian has both positive and negative values, the function is indefinite.<br/>\n",
    "Therefore,the stationary point $(1,1)$ is a saddle point."
   ]
  },
  {
   "cell_type": "markdown",
   "id": "783c1d73",
   "metadata": {},
   "source": [
    "Taylors expansion,<br/>\n",
    "$f(x_{1},x_{2})=f(x_{1},x_{2})+[g(f)]^T (x-x_{0})+\\frac{1}{2} (x-x_{0})^T H(f)(x-x_{0})$<br/>\n",
    "for $(x_{1},x_{2})=(1,1)$<br/>\n",
    "$f(x_{1},x_{2})=f(1,1)+\\begin{bmatrix} 4(1)-4(1) & -4(1)+3(1)+1 \\end{bmatrix} \\begin{bmatrix}x_{1}-1 \\\\ x_{2}-1\\end{bmatrix}+\\frac{1}{2}\\begin{bmatrix}x_{1}-1 & x_{2}-1\\end{bmatrix}\\begin{bmatrix}4 & -4 \\\\ -4 & 3\\end{bmatrix}\\begin{bmatrix}x_{1}-1 \\\\ x_{2}-1\\end{bmatrix}$<br/>\n",
    "let $x_{1}-1=\\partial x_{1} , x_{2}-1=\\partial x_{2}$<br/>\n",
    "$f(x_{1},x_{2})=f(1,1)+0+\\frac{1}{2}\\begin{bmatrix}\\partial x_{1} & \\partial x_{2}\\end{bmatrix}\\begin{bmatrix}4 & -4 \\\\ -4 & 3\\end{bmatrix}\\begin{bmatrix}\\partial x_{1} \\\\ \\partial x_{2}\\end{bmatrix}$<br/>\n",
    "$=f(1,1)+\\frac{1}{2}\\begin{bmatrix}4\\partial x_{1}-4\\partial x_{2} & -4\\partial x_{1}+3\\partial x_{2}\\end{bmatrix}\\begin{bmatrix}\\partial x_{1} \\\\ \\partial x_{2}\\end{bmatrix}$<br/>\n",
    "$=f(1,1)+\\frac{1}{2} [(4 \\partial x_{1}^2 - 4 \\partial x_{1} \\partial x_{2} - 4 \\partial x_{1} \\partial x_{2} + 3 \\partial x_{2}^2)]$<br/>\n",
    "$=f(1,1)+\\frac{1}{2} [(4 \\partial x_{1}^2 - 2 \\partial x_{1} \\partial x_{2} - 6 \\partial x_{1} \\partial x_{2} + 3 \\partial x_{2}^2)]$<br/>\n",
    "$=f(1,1)+\\frac{1}{2} [(2\\partial x_{1}(2\\partial x_{1}-\\partial x_{2})-3\\partial x_{2}(2\\partial x_{1}-\\partial x_{2})]$<br/>\n",
    "$=f(1,1)+\\frac{1}{2} [(2\\partial x_{1}-\\partial x_{2})(2\\partial x_{1} -3\\partial x_{2})]$<br/>\n",
    "$=f(1,1)+ (1\\partial x_{1}-\\frac{1}{2} \\partial x_{2})(1\\partial x_{1} -\\frac{3}{2} \\partial x_{2})$<br/>\n",
    "let $a=1,b=\\frac{1}{2},c=1,d=\\frac{3}{2}$<br/>\n",
    "$\\implies f(x_{1},x_{2})=f(1,1)+(a\\partial x_{1}-b \\partial x_{2})(c\\partial x_{1} -d \\partial x_{2})$<br/>"
   ]
  },
  {
   "cell_type": "markdown",
   "id": "63f94aed",
   "metadata": {},
   "source": [
    "Direction of downslopes,<br/>\n",
    "$f(x_{1},x_{2})-f(1,1)=(a\\partial x_{1}-b \\partial x_{2})(c\\partial x_{1} -d \\partial x_{2})<0$<br/>\n",
    "$\\implies (a\\partial x_{1}-b \\partial x_{2})(c\\partial x_{1} -d \\partial x_{2})<0$<br/>\n",
    "So either $(a\\partial x_{1}-b \\partial x_{2})$ or $(c\\partial x_{1} -d \\partial x_{2})$ should be negative,not both and $a\\partial x_{1}\\neq b \\partial x_{2},c\\partial x_{1} \\neq d \\partial x_{2}$."
   ]
  }
 ],
 "metadata": {
  "kernelspec": {
   "display_name": "Python 3 (ipykernel)",
   "language": "python",
   "name": "python3"
  },
  "language_info": {
   "codemirror_mode": {
    "name": "ipython",
    "version": 3
   },
   "file_extension": ".py",
   "mimetype": "text/x-python",
   "name": "python",
   "nbconvert_exporter": "python",
   "pygments_lexer": "ipython3",
   "version": "3.10.0"
  }
 },
 "nbformat": 4,
 "nbformat_minor": 5
}
