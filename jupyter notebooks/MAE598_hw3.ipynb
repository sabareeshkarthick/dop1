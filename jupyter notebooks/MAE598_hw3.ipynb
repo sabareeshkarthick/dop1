{
  "nbformat": 4,
  "nbformat_minor": 0,
  "metadata": {
    "colab": {
      "provenance": [],
      "collapsed_sections": []
    },
    "kernelspec": {
      "name": "python3",
      "display_name": "Python 3"
    },
    "language_info": {
      "name": "python"
    }
  },
  "cells": [
    {
      "cell_type": "markdown",
      "source": [
        "\n",
        "# MAE 598 Homework 3 <br/>\n",
        "---\n",
        "\n"
      ],
      "metadata": {
        "id": "YLXSiGR56D9h"
      }
    },
    {
      "cell_type": "markdown",
      "source": [
        "### 1)<br/>"
      ],
      "metadata": {
        "id": "xNqBx-_26S4h"
      }
    },
    {
      "cell_type": "markdown",
      "source": [
        "(1) Formulation of the least square problem,"
      ],
      "metadata": {
        "id": "Ac-AXCEN7Ujf"
      }
    },
    {
      "cell_type": "markdown",
      "source": [
        "We have the equilibrium relation formula,<br/>\n",
        "$$pf=x_1exp(A_{12}\\frac{A_{21}x_2}{A_{12}x_1+A_{21}x_2})^2 p_1^{sat}+x_2exp(A_{21}\\frac{A_{12}x_1}{A_{12}x_1+A_{21}x_2})^2 p_2^{sat}$$<br/>\n",
        "where $p_1^{sat}=p_{water}^{sat},p_2^{sat}=p_{1,4 dioxane}^{sat}$<br/>\n",
        "since we know the actual $p$ values,the least square problem can be given by,<br/>\n",
        "   $$\\underset{A12, A21}{min} \\sum_{i=1}^{11}(pf(i) - p(i))^2 $$\n",
        "   "
      ],
      "metadata": {
        "id": "eHi8UJ7Y4PCL"
      }
    },
    {
      "cell_type": "markdown",
      "source": [
        "solving using the gradient descent,"
      ],
      "metadata": {
        "id": "_Up47MtD7b4F"
      }
    },
    {
      "cell_type": "code",
      "execution_count": 21,
      "metadata": {
        "colab": {
          "base_uri": "https://localhost:8080/",
          "height": 330
        },
        "id": "GcKG5UT0yL9T",
        "outputId": "d749d36d-45e3-4de0-b259-6896fe17e65f"
      },
      "outputs": [
        {
          "output_type": "stream",
          "name": "stdout",
          "text": [
            "estimated A12 and A21 is  tensor([1.9418, 1.7030], requires_grad=True)\n",
            "loss is  0.6950508\n"
          ]
        },
        {
          "output_type": "display_data",
          "data": {
            "text/plain": [
              "<Figure size 432x288 with 1 Axes>"
            ],
            "image/png": "[encoded data removed]"
          },
          "metadata": {
            "needs_background": "light"
          }
        }
      ],
      "source": [
        "import torch\n",
        "import numpy as np\n",
        "import matplotlib.pyplot as plt\n",
        "from torch.autograd import Variable\n",
        "import matplotlib.pyplot as plt\n",
        "from IPython import display\n",
        "x_1=np.array([0.0, 0.1, 0.2, 0.3, 0.4, 0.5, 0.6, 0.7, 0.8, 0.9, 1.0])\n",
        "x_2=np.array([1.0, 0.9, 0.8, 0.7, 0.6, 0.5, 0.4, 0.3, 0.2, 0.1, 0.0])\n",
        "aw=np.array([8.07131, 1730.63, 233.426])\n",
        "ad=np.array([7.43155, 1554.679, 240.337])\n",
        "t=20\n",
        "pw=10**(aw[0]-aw[1]/(t+aw[2]))\n",
        "pd=10**(ad[0]-ad[1]/(t+ad[2]))\n",
        "p=np.array([28.1, 34.4, 36.7, 36.9, 36.8, 36.7, 36.5, 35.4, 32.9, 27.7, 17.5])\n",
        "p=torch.tensor(p,requires_grad=False,dtype=torch.float32)\n",
        "A=Variable(torch.tensor([1.0, 1.0]),requires_grad=True)\n",
        "x1=torch.tensor(x_1,requires_grad=False,dtype=torch.float32)\n",
        "x2=torch.tensor(x_2,requires_grad=False,dtype=torch.float32)\n",
        "a=.0001\n",
        "for i in range(200):\n",
        "    pf=x1*torch.exp(A[0]*(A[1]*x2/(A[0]*x1+A[1]*x2))**2)*pw + x2*torch.exp(A[1]*(A[0]*x1/(A[0]*x1+A[1]*x2))**2)*pd\n",
        "    loss=(pf-p)**2\n",
        "    loss=loss.sum()\n",
        "    loss.backward()\n",
        "    with torch.no_grad():\n",
        "            A-=a*A.grad\n",
        "            A.grad.zero_()\n",
        "print('estimated A12 and A21 is ',A)\n",
        "print('loss is ',loss.data.numpy())\n",
        "pf=pf.detach().numpy()\n",
        "p=p.detach().numpy()\n",
        "x1= x1.detach().numpy()\n",
        "plt.plot(x1,pf,label='presssure formulated-pf')\n",
        "plt.plot(x1,p,label='original Pressure-p')\n",
        "plt.xlabel('x1')\n",
        "plt.ylabel('P')\n",
        "plt.legend()\n",
        "plt.title('Comparing optimized model with data')\n",
        "plt.show()"
      ]
    },
    {
      "cell_type": "markdown",
      "source": [
        "From the graph we can see that our optimized model fits well with the data.<br/>\n"
      ],
      "metadata": {
        "id": "htxajcqV6-sd"
      }
    }
  ]
}