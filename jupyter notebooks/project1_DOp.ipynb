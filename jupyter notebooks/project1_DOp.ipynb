{
  "nbformat": 4,
  "nbformat_minor": 0,
  "metadata": {
    "colab": {
      "provenance": [],
      "collapsed_sections": []
    },
    "kernelspec": {
      "name": "python3",
      "display_name": "Python 3"
    },
    "language_info": {
      "name": "python"
    }
  },
  "cells": [
    {
      "cell_type": "markdown",
      "source": [
        "#Project 1: Gradient-based Algorithms and Differentiable Programming"
      ],
      "metadata": {
        "id": "BmMr2GCqEh2n"
      }
    },
    {
      "cell_type": "markdown",
      "source": [
        "###Problem formulation"
      ],
      "metadata": {
        "id": "CtyzDLziFLpw"
      }
    },
    {
      "cell_type": "markdown",
      "source": [
        "In order to get a better realistic model, let us consider a simple rocket landing motion (vertical landing) considering drag,noise,gravity and thrust. We are also considering distribution of initial states rather than one."
      ],
      "metadata": {
        "id": "RZ5bt4gyF3ip"
      }
    },
    {
      "cell_type": "markdown",
      "source": [
        "Rocket state,$x(t)=\\begin{bmatrix} d(t) \\\\ v(t) \\end{bmatrix}$<br/>\n",
        "Where,<br/>$t=$ time<br/> $d(t)=$ distance between rocket and the ground at time $t$<br/>\n",
        "$v(t)=$ velocity of the rocket at time $t$<br/>\n",
        "Discrete time dynamics,<br/>\n",
        "$$d(t+1)=d(t)+v(t)\\Delta t+w(t)$$<br/>\n",
        "$$v(t+1)=v(t)+gravity(\\Delta t)+(drag-thrust)a(t)\\Delta t+u(t)$$<br/>\n",
        "Where,<br/> $a(t)=$ acceleration of rocket at time $t$ . It is the control input of the rocket<br/>\n",
        "$\\Delta t =$time interval<br/>\n",
        "$w(t)$ and $u(t)$ are noise<br/>\n",
        "Closed loop controller,<br/>\n",
        "$a(t)=f_{\\theta}(x(t))$<br/>\n",
        "Where,<br/>\n",
        "$f_{\\theta}(.)=$neural network with parameters $\\theta$, which are to be determined through optimization <br/>\n",
        "For each time step, we assign a loss as a function of the control input and the state: $l(x(t),a(t))$. In this example, we will simply set $l(x(t),a(t))=0$ for all $t=1,...,T-1$, where $T$ is the final time step, and $l(x(T),a(T)) = ||x(T)||^2 = d(T)^2 + v(T)^2$. This loss encourages the rocket to reach $d(T)=0$ and $v(T)=0$, which are proper landing conditions.<br/>\n",
        "The optimization problem is now formulated as,<br/>\n",
        "$\\begin{aligned} \\min_{\\theta} \\quad & \\frac{1}{N} \\sum_{i=1}^N||x^i(T)||^2 \\\\ \\implies \\min_{\\theta} \\quad & \\frac{1}{N} \\sum_{i=1}^N (d(T)^{(i)})^2 + (v(T)^{(i)})^2 \\\\ \\quad & d(t+1)^{(i)}=d(t)^{(i)}+v(t)^{(i)}\\Delta t+w(t)^{(i)} \\\\ \\quad &v(t+1)^{(i)}=v(t)^{(i)}+gravity(\\Delta t)+(drag-thrust)a(t)^{(i)}\\Delta t+u(t)^{(i)},\\\\ \\quad & a(t)^{(i)} = f_{\\theta}(x(t)^{(i)}), ~\\forall t=1,...,T-1 ,  i=1,....,N \\end{aligned} $<br/><br/>\n",
        "Variable and values assumed,<br/>\n",
        "Time interval, $\\Delta t = 1$ <br/>\n",
        "$Gravity=9.81 / 1000 $ <br/>\n",
        "$thrust=14.715 / 1000$<br/>\n",
        "$drag=1/1000$<br/>\n",
        "Final time, $T=20$<br/>\n",
        "Number of samples,$N=20$<br/>\n"
      ],
      "metadata": {
        "id": "8IQVMVeUhy6X"
      }
    },
    {
      "cell_type": "code",
      "execution_count": null,
      "metadata": {
        "id": "pPzEkW8UEZe8"
      },
      "outputs": [],
      "source": []
    }
  ]
}